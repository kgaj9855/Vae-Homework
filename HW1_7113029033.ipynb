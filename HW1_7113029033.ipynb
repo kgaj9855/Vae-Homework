{
  "nbformat": 4,
  "nbformat_minor": 0,
  "metadata": {
    "colab": {
      "provenance": []
    },
    "kernelspec": {
      "name": "python3",
      "display_name": "Python 3"
    },
    "language_info": {
      "name": "python"
    }
  },
  "cells": [
    {
      "cell_type": "code",
      "execution_count": 3,
      "metadata": {
        "id": "9isKzWF7CfB5"
      },
      "outputs": [],
      "source": [
        "def get_mnist():\n",
        "    # The code to download the mnist data original came from\n",
        "    # https://cntk.ai/pythondocs/CNTK_103A_MNIST_DataLoader.html\n",
        "\n",
        "    import gzip\n",
        "    import numpy as np\n",
        "    import os\n",
        "    import struct\n",
        "\n",
        "    from urllib.request import urlretrieve\n",
        "\n",
        "    def load_data(src, num_samples):\n",
        "        print(\"Downloading \" + src)\n",
        "        gzfname, h = urlretrieve(src, \"./delete.me\")\n",
        "        print(\"Done.\")\n",
        "        try:\n",
        "            with gzip.open(gzfname) as gz:\n",
        "                n = struct.unpack(\"I\", gz.read(4))\n",
        "                # Read magic number.\n",
        "                if n[0] != 0x3080000:\n",
        "                    raise Exception(\"Invalid file: unexpected magic number.\")\n",
        "                # Read number of entries.\n",
        "                n = struct.unpack(\">I\", gz.read(4))[0]\n",
        "                if n != num_samples:\n",
        "                    raise Exception(\n",
        "                        \"Invalid file: expected {0} entries.\".format(num_samples)\n",
        "                    )\n",
        "                crow = struct.unpack(\">I\", gz.read(4))[0]\n",
        "                ccol = struct.unpack(\">I\", gz.read(4))[0]\n",
        "                if crow != 28 or ccol != 28:\n",
        "                    raise Exception(\n",
        "                        \"Invalid file: expected 28 rows/cols per image.\"\n",
        "                    )\n",
        "                # Read data.\n",
        "                res = np.frombuffer(\n",
        "                    gz.read(num_samples * crow * ccol), dtype=np.uint8\n",
        "                )\n",
        "        finally:\n",
        "            os.remove(gzfname)\n",
        "        return res.reshape((num_samples, crow, ccol)) / 256\n",
        "\n",
        "\n",
        "    def load_labels(src, num_samples):\n",
        "        print(\"Downloading \" + src)\n",
        "        gzfname, h = urlretrieve(src, \"./delete.me\")\n",
        "        print(\"Done.\")\n",
        "        try:\n",
        "            with gzip.open(gzfname) as gz:\n",
        "                n = struct.unpack(\"I\", gz.read(4))\n",
        "                # Read magic number.\n",
        "                if n[0] != 0x1080000:\n",
        "                    raise Exception(\"Invalid file: unexpected magic number.\")\n",
        "                # Read number of entries.\n",
        "                n = struct.unpack(\">I\", gz.read(4))\n",
        "                if n[0] != num_samples:\n",
        "                    raise Exception(\n",
        "                        \"Invalid file: expected {0} rows.\".format(num_samples)\n",
        "                    )\n",
        "                # Read labels.\n",
        "                res = np.frombuffer(gz.read(num_samples), dtype=np.uint8)\n",
        "        finally:\n",
        "            os.remove(gzfname)\n",
        "        return res.reshape((num_samples))\n",
        "\n",
        "\n",
        "    def try_download(data_source, label_source, num_samples):\n",
        "        data = load_data(data_source, num_samples)\n",
        "        labels = load_labels(label_source, num_samples)\n",
        "        return data, labels\n",
        "\n",
        "    # Not sure why, but yann lecun's website does no longer support\n",
        "    # simple downloader. (e.g. urlretrieve and wget fail, while curl work)\n",
        "    # Since not everyone has linux, use a mirror from uni server.\n",
        "    #     server = 'http://yann.lecun.com/exdb/mnist'\n",
        "    server = 'https://raw.githubusercontent.com/fgnt/mnist/master'\n",
        "\n",
        "    # URLs for the train image and label data\n",
        "    url_train_image = f'{server}/train-images-idx3-ubyte.gz'\n",
        "    url_train_labels = f'{server}/train-labels-idx1-ubyte.gz'\n",
        "    num_train_samples = 60000\n",
        "\n",
        "    print(\"Downloading train data\")\n",
        "    train_features, train_labels = try_download(url_train_image, url_train_labels, num_train_samples)\n",
        "\n",
        "    # URLs for the test image and label data\n",
        "    url_test_image = f'{server}/t10k-images-idx3-ubyte.gz'\n",
        "    url_test_labels = f'{server}/t10k-labels-idx1-ubyte.gz'\n",
        "    num_test_samples = 10000\n",
        "\n",
        "    print(\"Downloading test data\")\n",
        "    test_features, test_labels = try_download(url_test_image, url_test_labels, num_test_samples)\n",
        "\n",
        "    return train_features, train_labels, test_features, test_labels\n"
      ]
    },
    {
      "cell_type": "code",
      "source": [
        "train_X, train_y, test_X, test_y = get_mnist()\n"
      ],
      "metadata": {
        "colab": {
          "base_uri": "https://localhost:8080/"
        },
        "id": "Jk_CmGKlJEpR",
        "outputId": "9eb8cb91-2b21-41d3-80be-b05b6783aafe"
      },
      "execution_count": 4,
      "outputs": [
        {
          "output_type": "stream",
          "name": "stdout",
          "text": [
            "Downloading train data\n",
            "Downloading https://raw.githubusercontent.com/fgnt/mnist/master/train-images-idx3-ubyte.gz\n",
            "Done.\n",
            "Downloading https://raw.githubusercontent.com/fgnt/mnist/master/train-labels-idx1-ubyte.gz\n",
            "Done.\n",
            "Downloading test data\n",
            "Downloading https://raw.githubusercontent.com/fgnt/mnist/master/t10k-images-idx3-ubyte.gz\n",
            "Done.\n",
            "Downloading https://raw.githubusercontent.com/fgnt/mnist/master/t10k-labels-idx1-ubyte.gz\n",
            "Done.\n"
          ]
        }
      ]
    },
    {
      "cell_type": "code",
      "source": [
        "test_X"
      ],
      "metadata": {
        "colab": {
          "base_uri": "https://localhost:8080/"
        },
        "id": "RdfVYcDHuKSS",
        "outputId": "64e8ae01-50bc-4b0a-8e84-a942c83c5543"
      },
      "execution_count": 5,
      "outputs": [
        {
          "output_type": "execute_result",
          "data": {
            "text/plain": [
              "array([[[0., 0., 0., ..., 0., 0., 0.],\n",
              "        [0., 0., 0., ..., 0., 0., 0.],\n",
              "        [0., 0., 0., ..., 0., 0., 0.],\n",
              "        ...,\n",
              "        [0., 0., 0., ..., 0., 0., 0.],\n",
              "        [0., 0., 0., ..., 0., 0., 0.],\n",
              "        [0., 0., 0., ..., 0., 0., 0.]],\n",
              "\n",
              "       [[0., 0., 0., ..., 0., 0., 0.],\n",
              "        [0., 0., 0., ..., 0., 0., 0.],\n",
              "        [0., 0., 0., ..., 0., 0., 0.],\n",
              "        ...,\n",
              "        [0., 0., 0., ..., 0., 0., 0.],\n",
              "        [0., 0., 0., ..., 0., 0., 0.],\n",
              "        [0., 0., 0., ..., 0., 0., 0.]],\n",
              "\n",
              "       [[0., 0., 0., ..., 0., 0., 0.],\n",
              "        [0., 0., 0., ..., 0., 0., 0.],\n",
              "        [0., 0., 0., ..., 0., 0., 0.],\n",
              "        ...,\n",
              "        [0., 0., 0., ..., 0., 0., 0.],\n",
              "        [0., 0., 0., ..., 0., 0., 0.],\n",
              "        [0., 0., 0., ..., 0., 0., 0.]],\n",
              "\n",
              "       ...,\n",
              "\n",
              "       [[0., 0., 0., ..., 0., 0., 0.],\n",
              "        [0., 0., 0., ..., 0., 0., 0.],\n",
              "        [0., 0., 0., ..., 0., 0., 0.],\n",
              "        ...,\n",
              "        [0., 0., 0., ..., 0., 0., 0.],\n",
              "        [0., 0., 0., ..., 0., 0., 0.],\n",
              "        [0., 0., 0., ..., 0., 0., 0.]],\n",
              "\n",
              "       [[0., 0., 0., ..., 0., 0., 0.],\n",
              "        [0., 0., 0., ..., 0., 0., 0.],\n",
              "        [0., 0., 0., ..., 0., 0., 0.],\n",
              "        ...,\n",
              "        [0., 0., 0., ..., 0., 0., 0.],\n",
              "        [0., 0., 0., ..., 0., 0., 0.],\n",
              "        [0., 0., 0., ..., 0., 0., 0.]],\n",
              "\n",
              "       [[0., 0., 0., ..., 0., 0., 0.],\n",
              "        [0., 0., 0., ..., 0., 0., 0.],\n",
              "        [0., 0., 0., ..., 0., 0., 0.],\n",
              "        ...,\n",
              "        [0., 0., 0., ..., 0., 0., 0.],\n",
              "        [0., 0., 0., ..., 0., 0., 0.],\n",
              "        [0., 0., 0., ..., 0., 0., 0.]]])"
            ]
          },
          "metadata": {},
          "execution_count": 5
        }
      ]
    },
    {
      "cell_type": "code",
      "source": [
        "import numpy as np\n",
        "import pandas as pd\n",
        "import matplotlib.pyplot as plt\n",
        "import tensorflow as tf\n",
        "from tensorflow import keras\n"
      ],
      "metadata": {
        "id": "Kmae5LGnJXEj"
      },
      "execution_count": 6,
      "outputs": []
    },
    {
      "cell_type": "code",
      "source": [
        "import torch\n",
        "import torch.nn as nn\n",
        "import torch.nn.functional as F\n",
        "from torch.utils.data import DataLoader\n",
        "from torchvision import datasets, transforms"
      ],
      "metadata": {
        "id": "kLFdmvyaNgUR"
      },
      "execution_count": 7,
      "outputs": []
    },
    {
      "cell_type": "code",
      "source": [
        "latent_dim = 50 #潛在空間維度\n",
        "batch_size = 128\n",
        "epochs = 30\n"
      ],
      "metadata": {
        "id": "n7N-LXQPbSD9"
      },
      "execution_count": 8,
      "outputs": []
    },
    {
      "cell_type": "code",
      "source": [
        "device = 'cuda' if torch.cuda.is_available() else 'cpu'"
      ],
      "metadata": {
        "id": "XvHAuFvBbozp"
      },
      "execution_count": 9,
      "outputs": []
    },
    {
      "cell_type": "code",
      "source": [
        "class VAE(nn.Module):#代表說我這邊開始類神經網路，以後要寫成類神經網路都要這樣做\n",
        "  def __init__(self,latent_dim) -> None:\n",
        "    #encoder\n",
        "      super().__init__() #要呼叫類神經網路父類別的初始方法才可以設定其他屬性\n",
        "      self.encoder = nn.Sequential(nn.Linear(28 * 28,400),nn.ReLU())#這邊要設encoder的架構，首先輸入要設置28*28的圖片，然後將她轉乘400維的圖片，最後經過relu激活函數\n",
        "      self.fc_mu = nn.Linear(400,latent_dim)#這邊要設定平均值的維度\n",
        "      self.fc_logvar = nn.Linear(400,latent_dim)#這邊要設定方差的維度\n",
        "    #decoder\n",
        "      self.decoder = nn.Sequential(nn.Linear(latent_dim,400),nn.ReLU(),nn.Linear(400,28 * 28),nn.Sigmoid())#這邊要設定decoder的架構，也就是還原圖片，主要就是將濃縮的維度還原成28* 28大小\n",
        "  def encode(self,x):\n",
        "     h = self.encoder(x)#因為module 裡面有_call_，故當我呼叫module就可以直接forward\n",
        "     return self.fc_mu(h),self.fc_logvar(h)\n",
        "  def reparameterize(self,mu,logvar):\n",
        "    std = torch.exp(0.5 * logvar)#計算標準差\n",
        "    eps = torch.randn_like(std)#取得一個跟std一樣shape的亂數分布，因為要讓每一維都有乘到\n",
        "    return mu + std * eps\n",
        "  def decode(self,z):\n",
        "    return self.decoder(z)\n",
        "  def forward(self,x):\n",
        "    x = x.view(-1,28 * 28)\n",
        "    mu,logvar = self.encode(x)\n",
        "    z = self.reparameterize(mu,logvar)\n",
        "    recon_x = self.decode(z)\n",
        "    return recon_x,mu,logvar\n",
        "\n",
        "\n"
      ],
      "metadata": {
        "id": "WqlQuzHHJaqS"
      },
      "execution_count": 10,
      "outputs": []
    },
    {
      "cell_type": "code",
      "source": [
        "def vae_loss(recon_x, x, mu, logvar):#比較生成和原圖\n",
        "    x = x.view(-1, 28 * 28)\n",
        "    BCE = F.binary_cross_entropy(recon_x, x, reduction='sum')\n",
        "    KLD = -0.5 * torch.sum(1 + logvar - mu.pow(2) - logvar.exp())\n",
        "    return BCE + KLD"
      ],
      "metadata": {
        "id": "bd5qGZCOomg_"
      },
      "execution_count": 11,
      "outputs": []
    },
    {
      "cell_type": "code",
      "source": [
        "#將程式碼搬到cpu或gpu\n",
        "#這個to代表說如果我設計的模型使用self.xxx= 他就會自動搬到cpu 或是gpu上\n",
        "model = VAE(latent_dim).to(device)\n",
        "optimizer = torch.optim.Adam(model.parameters(), lr=1e-3)\n",
        "\n"
      ],
      "metadata": {
        "id": "_Gr2hh7zfHCB"
      },
      "execution_count": 12,
      "outputs": []
    },
    {
      "cell_type": "code",
      "source": [
        "import torch\n",
        "from torch.utils.data import TensorDataset, DataLoader\n"
      ],
      "metadata": {
        "id": "H1i9Ti6Pi2M8"
      },
      "execution_count": 13,
      "outputs": []
    },
    {
      "cell_type": "code",
      "source": [
        "#將資料轉為張量，因為原本是numpy array\n",
        "train_X_tensor = torch.tensor(train_X, dtype=torch.float32)\n",
        "train_y_tensor = torch.tensor(train_y, dtype=torch.long)\n",
        "test_X_tensor = torch.tensor(test_X, dtype=torch.float32)\n",
        "test_y_tensor = torch.tensor(test_y, dtype=torch.long)"
      ],
      "metadata": {
        "id": "xLskxb1Njdec"
      },
      "execution_count": 14,
      "outputs": []
    },
    {
      "cell_type": "code",
      "source": [
        "train_dataset = TensorDataset(train_X_tensor, train_y_tensor)#在訓練的時候方便，將標籤和訓練綁再一起 形成一個資料集\n",
        "train_loader = DataLoader(train_dataset, batch_size=128, shuffle=True)#分批取資料，控制每次給模型的資料數，shuffle 是將順序打亂以防模型學到提升泛化能力"
      ],
      "metadata": {
        "id": "OwGlOuyCj9TC"
      },
      "execution_count": 15,
      "outputs": []
    },
    {
      "cell_type": "code",
      "source": [
        "for epoch in range(1,epochs + 1):\n",
        "  model.train()#要找到最佳解\n",
        "  total_loss = 0 #初始loss給他0\n",
        "  for data ,_ in train_loader:#一筆一筆取出來，_代表不需要這個\n",
        "     data = data.to(device)#將資料移到device上進行訓練\n",
        "     optimizer.zero_grad()#每次都重新零梯度\n",
        "     recon_x, mu, logvar = model(data)\n",
        "     loss = vae_loss(recon_x, data, mu, logvar)\n",
        "     loss.backward()#反向傳播，算出梯度\n",
        "     optimizer.step()#更新參數\n",
        "     total_loss += loss.item()#將loss 加起來\n",
        "  avg_loss = total_loss / len(train_loader.dataset)\n",
        "  print(f'Epoch {epoch}, Average Loss: {avg_loss:.4f}')\n"
      ],
      "metadata": {
        "colab": {
          "base_uri": "https://localhost:8080/"
        },
        "id": "wNzoKF7qgkFF",
        "outputId": "39c72ab9-0bb1-4d27-b14f-a5f6e29e9df6"
      },
      "execution_count": 16,
      "outputs": [
        {
          "output_type": "stream",
          "name": "stdout",
          "text": [
            "Epoch 1, Average Loss: 170.0858\n",
            "Epoch 2, Average Loss: 127.8353\n",
            "Epoch 3, Average Loss: 118.0501\n",
            "Epoch 4, Average Loss: 113.6859\n",
            "Epoch 5, Average Loss: 111.3358\n",
            "Epoch 6, Average Loss: 109.7928\n",
            "Epoch 7, Average Loss: 108.6904\n",
            "Epoch 8, Average Loss: 108.0048\n",
            "Epoch 9, Average Loss: 107.3804\n",
            "Epoch 10, Average Loss: 106.9385\n",
            "Epoch 11, Average Loss: 106.4742\n",
            "Epoch 12, Average Loss: 106.1832\n",
            "Epoch 13, Average Loss: 105.8964\n",
            "Epoch 14, Average Loss: 105.6573\n",
            "Epoch 15, Average Loss: 105.4941\n",
            "Epoch 16, Average Loss: 105.2080\n",
            "Epoch 17, Average Loss: 105.0730\n",
            "Epoch 18, Average Loss: 104.8882\n",
            "Epoch 19, Average Loss: 104.7367\n",
            "Epoch 20, Average Loss: 104.6005\n",
            "Epoch 21, Average Loss: 104.4852\n",
            "Epoch 22, Average Loss: 104.3942\n",
            "Epoch 23, Average Loss: 104.2544\n",
            "Epoch 24, Average Loss: 104.1222\n",
            "Epoch 25, Average Loss: 104.0204\n",
            "Epoch 26, Average Loss: 103.9654\n",
            "Epoch 27, Average Loss: 103.8812\n",
            "Epoch 28, Average Loss: 103.7766\n",
            "Epoch 29, Average Loss: 103.6502\n",
            "Epoch 30, Average Loss: 103.6795\n"
          ]
        }
      ]
    },
    {
      "cell_type": "code",
      "source": [
        "model.eval()\n",
        "with torch.no_grad():#不進行計算梯度，以防消耗空間\n",
        "    x, _ = next(iter(train_loader))     # 取一小 batch (16張)，\n",
        "    x = x.to(device)\n",
        "    recon_x, _, _ = model(x)\n",
        "    x = x.cpu()\n",
        "    recon_x = recon_x.cpu()#都搬回 CPU，因為 matplotlib 畫圖只能吃 CPU tensor 或 numpy array\n",
        "\n",
        "    n = 8   # 顯示幾張\n",
        "    plt.figure(figsize=(16, 4))\n",
        "    for i in range(n):\n",
        "        # 原圖\n",
        "        plt.subplot(2, n, i + 1)\n",
        "        plt.imshow(x[i].squeeze(), cmap='gray')#sequeeze將多餘的維度去掉\n",
        "        plt.axis('off')#把這張小圖的 x/y 座標軸全部隱藏，不顯示任何數字或線條\n",
        "        if i == 0: plt.title('Input')\n",
        "        # 重建圖\n",
        "        plt.subplot(2, n, i + 1 + n)\n",
        "        plt.imshow(recon_x[i].view(28,28), cmap='gray')\n",
        "        plt.axis('off')\n",
        "        if i == 0: plt.title('Reconstruction')\n",
        "    plt.tight_layout()#plt.tight_layout() 是 matplotlib 常用的「自動排版指令」，它的意思是：「讓子圖（subplot）之間自動調整間距，不會重疊，排列得更美觀！」\n",
        "    plt.show()"
      ],
      "metadata": {
        "colab": {
          "base_uri": "https://localhost:8080/",
          "height": 411
        },
        "id": "Qvf6iTTXVsGs",
        "outputId": "2e5617bd-397a-4b22-aaf4-d53bc35d4b3c"
      },
      "execution_count": 31,
      "outputs": [
        {
          "output_type": "display_data",
          "data": {
            "text/plain": [
              "<Figure size 1600x400 with 16 Axes>"
            ],
            "image/png": "[encoded data removed]"
          },
          "metadata": {}
        }
      ]
    }
  ]
}